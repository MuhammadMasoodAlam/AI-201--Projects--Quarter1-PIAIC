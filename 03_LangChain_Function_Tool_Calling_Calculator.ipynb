{
  "nbformat": 4,
  "nbformat_minor": 0,
  "metadata": {
    "colab": {
      "provenance": []
    },
    "kernelspec": {
      "name": "python3",
      "display_name": "Python 3"
    },
    "language_info": {
      "name": "python"
    }
  },
  "cells": [
    {
      "cell_type": "markdown",
      "source": [
        "# Project 3: LangChain Function/Tool Calling Calculator\n",
        "In this Project, we will create a simple LangChain Colab Notebook that uses the Google Gemini Flash model to answer user calculation questions. This example below is provided to help you get started assumes you have access to the Gemini API and a basic Python environment. However, you are required to develop and submit your project using Google Colab."
      ],
      "metadata": {
        "id": "byQoKI-zCCmU"
      }
    },
    {
      "cell_type": "code",
      "execution_count": 20,
      "metadata": {
        "id": "XnBH_9WOBiZa"
      },
      "outputs": [],
      "source": [
        "!pip install python-dotenv -q\n",
        "!pip install langchain-community -U -q\n",
        "!pip install google-generativeai -U -q # Update `google-generativeai` package\n",
        "!pip install langchain -U -q\n",
        "!pip install langchain_google_genai -U -q"
      ]
    },
    {
      "cell_type": "markdown",
      "source": [
        "### Step 1: Import API keys  in Colab from secrets\n"
      ],
      "metadata": {
        "id": "Fk5CCFapDGY6"
      }
    },
    {
      "cell_type": "code",
      "source": [
        "#from google.colab import userdata\n",
        "#userdata.get('GOOGLE_API_KEY')"
      ],
      "metadata": {
        "collapsed": true,
        "id": "kRyWJ9SYDOsU"
      },
      "execution_count": 82,
      "outputs": []
    },
    {
      "cell_type": "markdown",
      "source": [
        "#### Step 2: Define the Calculator Tool\n",
        "We define a Calculator class that can evaluate arithmetic expressions. The calculate method uses Python's eval function to compute the result safely."
      ],
      "metadata": {
        "id": "OLpSQezHENVv"
      }
    },
    {
      "cell_type": "code",
      "source": [
        "class Calculator:\n",
        "    def calculate(self, expression: str) -> str:\n",
        "        try:\n",
        "            # Use Python's eval to compute the result safely\n",
        "            result = eval(expression, {\"__builtins__\": None}, {})\n",
        "            return str(result)\n",
        "        except Exception as e:\n",
        "            return f\"Error: {e}\""
      ],
      "metadata": {
        "id": "2Bre8P2QDwFg"
      },
      "execution_count": 72,
      "outputs": []
    },
    {
      "cell_type": "markdown",
      "source": [
        "#### Step 3: Create the Tool Wrapper for LangChain\n",
        "We integrate the calculator with LangChain as a tool using the Tool class."
      ],
      "metadata": {
        "id": "j6elD3weEUet"
      }
    },
    {
      "cell_type": "code",
      "source": [
        "from langchain.tools import tool\n",
        "\n",
        "# Define the tool using a decorator\n",
        "@tool\n",
        "def calculator(expression: str) -> str:\n",
        "    \"\"\"\n",
        "    Perform arithmetic calculations.\n",
        "    Input: A mathematical expression as a string (e.g., \"2 + 2\").\n",
        "    Output: Result of the calculation as a string.\n",
        "    \"\"\"\n",
        "    calc = Calculator()\n",
        "    return calc.calculate(expression)"
      ],
      "metadata": {
        "id": "0tXQ6UZvERsJ"
      },
      "execution_count": 73,
      "outputs": []
    },
    {
      "cell_type": "markdown",
      "source": [
        "#### Step 4: Set Up the Google Gemini Flash Model\n",
        "We initialize the Google Gemini Flash model with the API key and define the tools to be used by the agent."
      ],
      "metadata": {
        "id": "jsAAL72MEb5_"
      }
    },
    {
      "cell_type": "code",
      "source": [
        "import os\n",
        "from langchain_google_genai.chat_models import ChatGoogleGenerativeAI\n",
        "from langchain.chains.conversation.memory import ConversationBufferMemory\n",
        "\n",
        "# Initialize the Google Gemini Flash model\n",
        "gemini_model = ChatGoogleGenerativeAI(\n",
        "    model=\"gemini-1.5-flash\",  # Specify the model name, e.g., 'gemini-1.5-flash'\n",
        "    api_key=os.environ[\"GOOGLE_GEMINI_API_KEY\"],  # Use the environment variable for the API key\n",
        "    temperature=0.7\n",
        ")\n",
        "print(\"Google Gemini Flash model initialized.\")\n"
      ],
      "metadata": {
        "colab": {
          "base_uri": "https://localhost:8080/"
        },
        "id": "EM5sfUchVBKQ",
        "outputId": "09ab2f17-d7dd-4ef8-e894-7dd721374be5"
      },
      "execution_count": 74,
      "outputs": [
        {
          "output_type": "stream",
          "name": "stdout",
          "text": [
            "Google Gemini Flash model initialized.\n"
          ]
        }
      ]
    },
    {
      "cell_type": "code",
      "source": [
        "from langchain.agents import initialize_agent, AgentType\n",
        "from langchain.tools import tool\n",
        "\n",
        "\n",
        "# Create a list of tools\n",
        "tools = [calculator]\n",
        "\n",
        "# Initialize the agent\n",
        "agent = initialize_agent(\n",
        "    tools=tools,\n",
        "    llm=gemini_model,\n",
        "    agent_type=\"openai-function-calling\"\n",
        ")\n",
        "\n",
        "# Example usage\n",
        "response = agent.invoke(\"What is 12 * 15?\")\n",
        "print(response)\n",
        "\n"
      ],
      "metadata": {
        "colab": {
          "base_uri": "https://localhost:8080/"
        },
        "id": "iHLFaB2om5zq",
        "outputId": "5135827c-2eab-439a-d79e-f11fee40e869"
      },
      "execution_count": 77,
      "outputs": [
        {
          "output_type": "stream",
          "name": "stdout",
          "text": [
            "{'input': 'What is 12 * 15?', 'output': '180'}\n"
          ]
        }
      ]
    },
    {
      "cell_type": "markdown",
      "source": [
        "### Step 5: Build the Conversational Chain\n",
        "We set up a conversational chain with memory to maintain context across multiple queries.\n"
      ],
      "metadata": {
        "id": "XsLwPjpyX0sO"
      }
    },
    {
      "cell_type": "code",
      "source": [
        "from langchain.memory import ConversationBufferMemory\n",
        "from langchain.chains import ConversationChain\n",
        "\n",
        "# Set up memory to maintain conversation context\n",
        "memory = ConversationBufferMemory()\n",
        "\n",
        "# Build the conversational chain\n",
        "chain = ConversationChain(\n",
        "    llm=gemini_model,\n",
        "    memory=memory,\n",
        "    verbose=True\n",
        ")\n",
        "\n",
        "# Example usage\n",
        "response = chain.invoke(\"What is 12 * 15?\")\n",
        "print(response)\n"
      ],
      "metadata": {
        "colab": {
          "base_uri": "https://localhost:8080/"
        },
        "id": "H5ar8iY9pMSK",
        "outputId": "e429a587-cd43-42c9-e021-da9d65ed9b5c"
      },
      "execution_count": 78,
      "outputs": [
        {
          "output_type": "stream",
          "name": "stdout",
          "text": [
            "\n",
            "\n",
            "\u001b[1m> Entering new ConversationChain chain...\u001b[0m\n",
            "Prompt after formatting:\n",
            "\u001b[32;1m\u001b[1;3mThe following is a friendly conversation between a human and an AI. The AI is talkative and provides lots of specific details from its context. If the AI does not know the answer to a question, it truthfully says it does not know.\n",
            "\n",
            "Current conversation:\n",
            "\n",
            "Human: What is 12 * 15?\n",
            "AI:\u001b[0m\n",
            "\n",
            "\u001b[1m> Finished chain.\u001b[0m\n",
            "{'input': 'What is 12 * 15?', 'history': '', 'response': '12 * 15 is 180.  I arrived at this answer by performing the multiplication operation.  Specifically, I can break it down a few ways:  I could do 12 * 10 = 120, and then 12 * 5 = 60, and add those together (120 + 60 = 180). Or, I could use the distributive property: 12 * (10 + 5) = (12 * 10) + (12 * 5) = 120 + 60 = 180.  There are many ways to approach this simple multiplication problem!  Is there anything else I can help you calculate?\\n'}\n"
          ]
        }
      ]
    },
    {
      "cell_type": "markdown",
      "source": [
        "#### Step 6: Test the Calculator Tool\n",
        "We test the calculator tool by processing a series of queries and printing the responses."
      ],
      "metadata": {
        "id": "59bQM3QXqF-T"
      }
    },
    {
      "cell_type": "code",
      "source": [
        "# User query\n",
        "query = \"What is 15 divided by 3?\"\n",
        "\n",
        "# Get response from the system\n",
        "response = chain.invoke(query)\n",
        "print(response)"
      ],
      "metadata": {
        "colab": {
          "base_uri": "https://localhost:8080/"
        },
        "id": "Esn3TYDqpyeU",
        "outputId": "682f276b-13ee-4058-ff55-c2b3260013a3"
      },
      "execution_count": 79,
      "outputs": [
        {
          "output_type": "stream",
          "name": "stdout",
          "text": [
            "\n",
            "\n",
            "\u001b[1m> Entering new ConversationChain chain...\u001b[0m\n",
            "Prompt after formatting:\n",
            "\u001b[32;1m\u001b[1;3mThe following is a friendly conversation between a human and an AI. The AI is talkative and provides lots of specific details from its context. If the AI does not know the answer to a question, it truthfully says it does not know.\n",
            "\n",
            "Current conversation:\n",
            "Human: What is 12 * 15?\n",
            "AI: 12 * 15 is 180.  I arrived at this answer by performing the multiplication operation.  Specifically, I can break it down a few ways:  I could do 12 * 10 = 120, and then 12 * 5 = 60, and add those together (120 + 60 = 180). Or, I could use the distributive property: 12 * (10 + 5) = (12 * 10) + (12 * 5) = 120 + 60 = 180.  There are many ways to approach this simple multiplication problem!  Is there anything else I can help you calculate?\n",
            "\n",
            "Human: What is 15 divided by 3?\n",
            "AI:\u001b[0m\n",
            "\n",
            "\u001b[1m> Finished chain.\u001b[0m\n",
            "{'input': 'What is 15 divided by 3?', 'history': 'Human: What is 12 * 15?\\nAI: 12 * 15 is 180.  I arrived at this answer by performing the multiplication operation.  Specifically, I can break it down a few ways:  I could do 12 * 10 = 120, and then 12 * 5 = 60, and add those together (120 + 60 = 180). Or, I could use the distributive property: 12 * (10 + 5) = (12 * 10) + (12 * 5) = 120 + 60 = 180.  There are many ways to approach this simple multiplication problem!  Is there anything else I can help you calculate?\\n', 'response': \"15 divided by 3 is 5.  This is because 3 multiplied by 5 equals 15.  In other words, 3 goes into 15 five times.  I performed this calculation using basic division.  It's a fundamental arithmetic operation.  Do you have any other questions for me? Perhaps you'd like to try a more complex calculation? I'm ready when you are!\\n\"}\n"
          ]
        }
      ]
    },
    {
      "cell_type": "code",
      "source": [
        "\n",
        "queries = [\n",
        "    \"What is 25 multiplied by 4?\",\n",
        "    \"Now divide the result by 5.\",\n",
        "    \"Add 10 to that.\"\n",
        "]\n",
        "\n",
        "for q in queries:\n",
        "    print(\"Query:\", q)\n",
        "    print(\"Response:\", chain.invoke(q))\n",
        "    print(\"-\" * 40)"
      ],
      "metadata": {
        "colab": {
          "base_uri": "https://localhost:8080/"
        },
        "id": "lTQ2klForHjM",
        "outputId": "bba3b83a-9b00-4e36-ce1a-7e7b9d4f6d1f"
      },
      "execution_count": 81,
      "outputs": [
        {
          "output_type": "stream",
          "name": "stdout",
          "text": [
            "Query: What is 25 multiplied by 4?\n",
            "\n",
            "\n",
            "\u001b[1m> Entering new ConversationChain chain...\u001b[0m\n",
            "Prompt after formatting:\n",
            "\u001b[32;1m\u001b[1;3mThe following is a friendly conversation between a human and an AI. The AI is talkative and provides lots of specific details from its context. If the AI does not know the answer to a question, it truthfully says it does not know.\n",
            "\n",
            "Current conversation:\n",
            "Human: What is 12 * 15?\n",
            "AI: 12 * 15 is 180.  I arrived at this answer by performing the multiplication operation.  Specifically, I can break it down a few ways:  I could do 12 * 10 = 120, and then 12 * 5 = 60, and add those together (120 + 60 = 180). Or, I could use the distributive property: 12 * (10 + 5) = (12 * 10) + (12 * 5) = 120 + 60 = 180.  There are many ways to approach this simple multiplication problem!  Is there anything else I can help you calculate?\n",
            "\n",
            "Human: What is 15 divided by 3?\n",
            "AI: 15 divided by 3 is 5.  This is because 3 multiplied by 5 equals 15.  In other words, 3 goes into 15 five times.  I performed this calculation using basic division.  It's a fundamental arithmetic operation.  Do you have any other questions for me? Perhaps you'd like to try a more complex calculation? I'm ready when you are!\n",
            "\n",
            "Human: What is 25 multiplied by 4?\n",
            "AI: 25 multiplied by 4 is 100. I obtained this result through multiplication.  A simple way to calculate this is to think of it as 25 + 25 + 25 + 25, which sums to 100. Alternatively, you could think of it as four quarters (25 cents each) making one dollar (100 cents).  Or, we could use the commutative property of multiplication and calculate 4 * 25, which might be easier to visualize as 4 quarters.  I'm quite adept at these calculations!  What mathematical problem shall we tackle next?\n",
            "\n",
            "Human: Now divide the result by 5.\n",
            "AI: The result of 25 multiplied by 4 is 100.  Dividing 100 by 5 results in 20.  This is because 5 multiplied by 20 equals 100.  I performed this division using basic arithmetic.  Specifically, I found that 5 goes into 10 twice, and 5 goes into 0 zero times, resulting in an answer of 20.  I'm eager to assist with any further calculations you may have!\n",
            "\n",
            "Human: Add 10 to that.\n",
            "AI: Adding 10 to 20 results in 30.  This is a simple addition problem. I added 10 to the previous result of 20, which is a straightforward operation.  I'm ready for your next mathematical challenge!\n",
            "\n",
            "Human: What is 25 multiplied by 4?\n",
            "AI:\u001b[0m\n",
            "\n",
            "\u001b[1m> Finished chain.\u001b[0m\n",
            "Response: {'input': 'What is 25 multiplied by 4?', 'history': \"Human: What is 12 * 15?\\nAI: 12 * 15 is 180.  I arrived at this answer by performing the multiplication operation.  Specifically, I can break it down a few ways:  I could do 12 * 10 = 120, and then 12 * 5 = 60, and add those together (120 + 60 = 180). Or, I could use the distributive property: 12 * (10 + 5) = (12 * 10) + (12 * 5) = 120 + 60 = 180.  There are many ways to approach this simple multiplication problem!  Is there anything else I can help you calculate?\\n\\nHuman: What is 15 divided by 3?\\nAI: 15 divided by 3 is 5.  This is because 3 multiplied by 5 equals 15.  In other words, 3 goes into 15 five times.  I performed this calculation using basic division.  It's a fundamental arithmetic operation.  Do you have any other questions for me? Perhaps you'd like to try a more complex calculation? I'm ready when you are!\\n\\nHuman: What is 25 multiplied by 4?\\nAI: 25 multiplied by 4 is 100. I obtained this result through multiplication.  A simple way to calculate this is to think of it as 25 + 25 + 25 + 25, which sums to 100. Alternatively, you could think of it as four quarters (25 cents each) making one dollar (100 cents).  Or, we could use the commutative property of multiplication and calculate 4 * 25, which might be easier to visualize as 4 quarters.  I'm quite adept at these calculations!  What mathematical problem shall we tackle next?\\n\\nHuman: Now divide the result by 5.\\nAI: The result of 25 multiplied by 4 is 100.  Dividing 100 by 5 results in 20.  This is because 5 multiplied by 20 equals 100.  I performed this division using basic arithmetic.  Specifically, I found that 5 goes into 10 twice, and 5 goes into 0 zero times, resulting in an answer of 20.  I'm eager to assist with any further calculations you may have!\\n\\nHuman: Add 10 to that.\\nAI: Adding 10 to 20 results in 30.  This is a simple addition problem. I added 10 to the previous result of 20, which is a straightforward operation.  I'm ready for your next mathematical challenge!\\n\", 'response': \"25 multiplied by 4 is 100.  I obtained this result through multiplication. As before, you can think of this as 25 + 25 + 25 + 25 = 100,  or as four quarters making a dollar.  We could also use the commutative property again: 4 * 25.  This problem is quite straightforward, but I'm always happy to perform these calculations! What's next?\\n\"}\n",
            "----------------------------------------\n",
            "Query: Now divide the result by 5.\n",
            "\n",
            "\n",
            "\u001b[1m> Entering new ConversationChain chain...\u001b[0m\n",
            "Prompt after formatting:\n",
            "\u001b[32;1m\u001b[1;3mThe following is a friendly conversation between a human and an AI. The AI is talkative and provides lots of specific details from its context. If the AI does not know the answer to a question, it truthfully says it does not know.\n",
            "\n",
            "Current conversation:\n",
            "Human: What is 12 * 15?\n",
            "AI: 12 * 15 is 180.  I arrived at this answer by performing the multiplication operation.  Specifically, I can break it down a few ways:  I could do 12 * 10 = 120, and then 12 * 5 = 60, and add those together (120 + 60 = 180). Or, I could use the distributive property: 12 * (10 + 5) = (12 * 10) + (12 * 5) = 120 + 60 = 180.  There are many ways to approach this simple multiplication problem!  Is there anything else I can help you calculate?\n",
            "\n",
            "Human: What is 15 divided by 3?\n",
            "AI: 15 divided by 3 is 5.  This is because 3 multiplied by 5 equals 15.  In other words, 3 goes into 15 five times.  I performed this calculation using basic division.  It's a fundamental arithmetic operation.  Do you have any other questions for me? Perhaps you'd like to try a more complex calculation? I'm ready when you are!\n",
            "\n",
            "Human: What is 25 multiplied by 4?\n",
            "AI: 25 multiplied by 4 is 100. I obtained this result through multiplication.  A simple way to calculate this is to think of it as 25 + 25 + 25 + 25, which sums to 100. Alternatively, you could think of it as four quarters (25 cents each) making one dollar (100 cents).  Or, we could use the commutative property of multiplication and calculate 4 * 25, which might be easier to visualize as 4 quarters.  I'm quite adept at these calculations!  What mathematical problem shall we tackle next?\n",
            "\n",
            "Human: Now divide the result by 5.\n",
            "AI: The result of 25 multiplied by 4 is 100.  Dividing 100 by 5 results in 20.  This is because 5 multiplied by 20 equals 100.  I performed this division using basic arithmetic.  Specifically, I found that 5 goes into 10 twice, and 5 goes into 0 zero times, resulting in an answer of 20.  I'm eager to assist with any further calculations you may have!\n",
            "\n",
            "Human: Add 10 to that.\n",
            "AI: Adding 10 to 20 results in 30.  This is a simple addition problem. I added 10 to the previous result of 20, which is a straightforward operation.  I'm ready for your next mathematical challenge!\n",
            "\n",
            "Human: What is 25 multiplied by 4?\n",
            "AI: 25 multiplied by 4 is 100.  I obtained this result through multiplication. As before, you can think of this as 25 + 25 + 25 + 25 = 100,  or as four quarters making a dollar.  We could also use the commutative property again: 4 * 25.  This problem is quite straightforward, but I'm always happy to perform these calculations! What's next?\n",
            "\n",
            "Human: Now divide the result by 5.\n",
            "AI:\u001b[0m\n",
            "\n",
            "\u001b[1m> Finished chain.\u001b[0m\n",
            "Response: {'input': 'Now divide the result by 5.', 'history': \"Human: What is 12 * 15?\\nAI: 12 * 15 is 180.  I arrived at this answer by performing the multiplication operation.  Specifically, I can break it down a few ways:  I could do 12 * 10 = 120, and then 12 * 5 = 60, and add those together (120 + 60 = 180). Or, I could use the distributive property: 12 * (10 + 5) = (12 * 10) + (12 * 5) = 120 + 60 = 180.  There are many ways to approach this simple multiplication problem!  Is there anything else I can help you calculate?\\n\\nHuman: What is 15 divided by 3?\\nAI: 15 divided by 3 is 5.  This is because 3 multiplied by 5 equals 15.  In other words, 3 goes into 15 five times.  I performed this calculation using basic division.  It's a fundamental arithmetic operation.  Do you have any other questions for me? Perhaps you'd like to try a more complex calculation? I'm ready when you are!\\n\\nHuman: What is 25 multiplied by 4?\\nAI: 25 multiplied by 4 is 100. I obtained this result through multiplication.  A simple way to calculate this is to think of it as 25 + 25 + 25 + 25, which sums to 100. Alternatively, you could think of it as four quarters (25 cents each) making one dollar (100 cents).  Or, we could use the commutative property of multiplication and calculate 4 * 25, which might be easier to visualize as 4 quarters.  I'm quite adept at these calculations!  What mathematical problem shall we tackle next?\\n\\nHuman: Now divide the result by 5.\\nAI: The result of 25 multiplied by 4 is 100.  Dividing 100 by 5 results in 20.  This is because 5 multiplied by 20 equals 100.  I performed this division using basic arithmetic.  Specifically, I found that 5 goes into 10 twice, and 5 goes into 0 zero times, resulting in an answer of 20.  I'm eager to assist with any further calculations you may have!\\n\\nHuman: Add 10 to that.\\nAI: Adding 10 to 20 results in 30.  This is a simple addition problem. I added 10 to the previous result of 20, which is a straightforward operation.  I'm ready for your next mathematical challenge!\\n\\nHuman: What is 25 multiplied by 4?\\nAI: 25 multiplied by 4 is 100.  I obtained this result through multiplication. As before, you can think of this as 25 + 25 + 25 + 25 = 100,  or as four quarters making a dollar.  We could also use the commutative property again: 4 * 25.  This problem is quite straightforward, but I'm always happy to perform these calculations! What's next?\\n\", 'response': \"The result of 25 multiplied by 4 is 100. Dividing 100 by 5 results in 20. This is because 5 multiplied by 20 equals 100.  I performed this division using basic arithmetic.  Specifically, 5 goes into 10 twice, and 5 goes into 0 zero times, giving us 20. I'm ready for your next mathematical challenge!\\n\"}\n",
            "----------------------------------------\n",
            "Query: Add 10 to that.\n",
            "\n",
            "\n",
            "\u001b[1m> Entering new ConversationChain chain...\u001b[0m\n",
            "Prompt after formatting:\n",
            "\u001b[32;1m\u001b[1;3mThe following is a friendly conversation between a human and an AI. The AI is talkative and provides lots of specific details from its context. If the AI does not know the answer to a question, it truthfully says it does not know.\n",
            "\n",
            "Current conversation:\n",
            "Human: What is 12 * 15?\n",
            "AI: 12 * 15 is 180.  I arrived at this answer by performing the multiplication operation.  Specifically, I can break it down a few ways:  I could do 12 * 10 = 120, and then 12 * 5 = 60, and add those together (120 + 60 = 180). Or, I could use the distributive property: 12 * (10 + 5) = (12 * 10) + (12 * 5) = 120 + 60 = 180.  There are many ways to approach this simple multiplication problem!  Is there anything else I can help you calculate?\n",
            "\n",
            "Human: What is 15 divided by 3?\n",
            "AI: 15 divided by 3 is 5.  This is because 3 multiplied by 5 equals 15.  In other words, 3 goes into 15 five times.  I performed this calculation using basic division.  It's a fundamental arithmetic operation.  Do you have any other questions for me? Perhaps you'd like to try a more complex calculation? I'm ready when you are!\n",
            "\n",
            "Human: What is 25 multiplied by 4?\n",
            "AI: 25 multiplied by 4 is 100. I obtained this result through multiplication.  A simple way to calculate this is to think of it as 25 + 25 + 25 + 25, which sums to 100. Alternatively, you could think of it as four quarters (25 cents each) making one dollar (100 cents).  Or, we could use the commutative property of multiplication and calculate 4 * 25, which might be easier to visualize as 4 quarters.  I'm quite adept at these calculations!  What mathematical problem shall we tackle next?\n",
            "\n",
            "Human: Now divide the result by 5.\n",
            "AI: The result of 25 multiplied by 4 is 100.  Dividing 100 by 5 results in 20.  This is because 5 multiplied by 20 equals 100.  I performed this division using basic arithmetic.  Specifically, I found that 5 goes into 10 twice, and 5 goes into 0 zero times, resulting in an answer of 20.  I'm eager to assist with any further calculations you may have!\n",
            "\n",
            "Human: Add 10 to that.\n",
            "AI: Adding 10 to 20 results in 30.  This is a simple addition problem. I added 10 to the previous result of 20, which is a straightforward operation.  I'm ready for your next mathematical challenge!\n",
            "\n",
            "Human: What is 25 multiplied by 4?\n",
            "AI: 25 multiplied by 4 is 100.  I obtained this result through multiplication. As before, you can think of this as 25 + 25 + 25 + 25 = 100,  or as four quarters making a dollar.  We could also use the commutative property again: 4 * 25.  This problem is quite straightforward, but I'm always happy to perform these calculations! What's next?\n",
            "\n",
            "Human: Now divide the result by 5.\n",
            "AI: The result of 25 multiplied by 4 is 100. Dividing 100 by 5 results in 20. This is because 5 multiplied by 20 equals 100.  I performed this division using basic arithmetic.  Specifically, 5 goes into 10 twice, and 5 goes into 0 zero times, giving us 20. I'm ready for your next mathematical challenge!\n",
            "\n",
            "Human: Add 10 to that.\n",
            "AI:\u001b[0m\n",
            "\n",
            "\u001b[1m> Finished chain.\u001b[0m\n",
            "Response: {'input': 'Add 10 to that.', 'history': \"Human: What is 12 * 15?\\nAI: 12 * 15 is 180.  I arrived at this answer by performing the multiplication operation.  Specifically, I can break it down a few ways:  I could do 12 * 10 = 120, and then 12 * 5 = 60, and add those together (120 + 60 = 180). Or, I could use the distributive property: 12 * (10 + 5) = (12 * 10) + (12 * 5) = 120 + 60 = 180.  There are many ways to approach this simple multiplication problem!  Is there anything else I can help you calculate?\\n\\nHuman: What is 15 divided by 3?\\nAI: 15 divided by 3 is 5.  This is because 3 multiplied by 5 equals 15.  In other words, 3 goes into 15 five times.  I performed this calculation using basic division.  It's a fundamental arithmetic operation.  Do you have any other questions for me? Perhaps you'd like to try a more complex calculation? I'm ready when you are!\\n\\nHuman: What is 25 multiplied by 4?\\nAI: 25 multiplied by 4 is 100. I obtained this result through multiplication.  A simple way to calculate this is to think of it as 25 + 25 + 25 + 25, which sums to 100. Alternatively, you could think of it as four quarters (25 cents each) making one dollar (100 cents).  Or, we could use the commutative property of multiplication and calculate 4 * 25, which might be easier to visualize as 4 quarters.  I'm quite adept at these calculations!  What mathematical problem shall we tackle next?\\n\\nHuman: Now divide the result by 5.\\nAI: The result of 25 multiplied by 4 is 100.  Dividing 100 by 5 results in 20.  This is because 5 multiplied by 20 equals 100.  I performed this division using basic arithmetic.  Specifically, I found that 5 goes into 10 twice, and 5 goes into 0 zero times, resulting in an answer of 20.  I'm eager to assist with any further calculations you may have!\\n\\nHuman: Add 10 to that.\\nAI: Adding 10 to 20 results in 30.  This is a simple addition problem. I added 10 to the previous result of 20, which is a straightforward operation.  I'm ready for your next mathematical challenge!\\n\\nHuman: What is 25 multiplied by 4?\\nAI: 25 multiplied by 4 is 100.  I obtained this result through multiplication. As before, you can think of this as 25 + 25 + 25 + 25 = 100,  or as four quarters making a dollar.  We could also use the commutative property again: 4 * 25.  This problem is quite straightforward, but I'm always happy to perform these calculations! What's next?\\n\\nHuman: Now divide the result by 5.\\nAI: The result of 25 multiplied by 4 is 100. Dividing 100 by 5 results in 20. This is because 5 multiplied by 20 equals 100.  I performed this division using basic arithmetic.  Specifically, 5 goes into 10 twice, and 5 goes into 0 zero times, giving us 20. I'm ready for your next mathematical challenge!\\n\", 'response': \"Adding 10 to 20 results in 30. This is a simple addition problem. I added 10 to the previous result of 20, a straightforward operation.  I'm ready for your next mathematical challenge, or any other question you might have!\\n\"}\n",
            "----------------------------------------\n"
          ]
        }
      ]
    },
    {
      "cell_type": "markdown",
      "source": [
        "--------------------"
      ],
      "metadata": {
        "id": "OXkj29bgOlD_"
      }
    },
    {
      "cell_type": "code",
      "source": [],
      "metadata": {
        "id": "9MyyYdiaBXst"
      },
      "execution_count": null,
      "outputs": []
    }
  ]
}